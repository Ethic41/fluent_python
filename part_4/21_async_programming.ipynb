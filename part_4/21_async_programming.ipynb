{
 "cells": [
  {
   "cell_type": "code",
   "execution_count": 8,
   "id": "f2ff5a52",
   "metadata": {},
   "outputs": [
    {
     "name": "stdout",
     "output_type": "stream",
     "text": [
      "✓ def.dev\n",
      "✓ in.dev\n",
      "✓ elif.dev\n",
      "✓ as.dev\n",
      "✓ from.dev\n",
      "✓ and.dev\n",
      "✓ del.dev\n",
      "✓ true.dev\n",
      "✓ not.dev\n",
      "✗ or.dev\n",
      "✗ else.dev\n",
      "✗ none.dev\n",
      "✗ with.dev\n",
      "✗ is.dev\n",
      "✗ pass.dev\n",
      "✗ if.dev\n",
      "✗ try.dev\n",
      "✓ for.dev\n"
     ]
    }
   ],
   "source": [
    "#!/usr/bin/env python\n",
    "# -=-<[ Bismillahirrahmanirrahim ]>-=-\n",
    "# -*- coding: utf-8 -*-\n",
    "# @Date    : 2025-05-23 14:39:09\n",
    "# @Author  : Dahir Muhammad Dahir (dahirmuhammad3@gmail.com)\n",
    "# @Link    : link\n",
    "# @Version : 1.0.0\n",
    "\n",
    "\n",
    "# blogdom.py: search for domains for a python blog\n",
    "\n",
    "import asyncio\n",
    "import socket\n",
    "from keyword import kwlist\n",
    "\n",
    "MAX_KEYWORD_LENGTH = 4\n",
    "\n",
    "async def probe(domain: str) -> tuple[str, bool]:\n",
    "    loop = asyncio.get_running_loop()\n",
    "\n",
    "    try:\n",
    "        await loop.getaddrinfo(domain, None)\n",
    "    except socket.gaierror:\n",
    "        return (domain, False)\n",
    "    \n",
    "    return (domain, True)\n",
    "\n",
    "async def main() -> None:\n",
    "    names = (kw for kw in kwlist if len(kw) <= MAX_KEYWORD_LENGTH)\n",
    "    domains = (f\"{name}.dev\".lower() for name in names)\n",
    "    coros = [probe(domain) for domain in domains]\n",
    "\n",
    "    for coro in asyncio.as_completed(coros):\n",
    "        domain, found = await coro\n",
    "        mark = \"✓\" if found else \"✗\"\n",
    "        print(f\"{mark} {domain}\")\n",
    "\n",
    "await main()\n"
   ]
  },
  {
   "cell_type": "code",
   "execution_count": null,
   "id": "b059de5c",
   "metadata": {},
   "outputs": [],
   "source": []
  },
  {
   "cell_type": "code",
   "execution_count": null,
   "id": "94255901",
   "metadata": {},
   "outputs": [],
   "source": []
  }
 ],
 "metadata": {
  "kernelspec": {
   "display_name": ".venv",
   "language": "python",
   "name": "python3"
  },
  "language_info": {
   "codemirror_mode": {
    "name": "ipython",
    "version": 3
   },
   "file_extension": ".py",
   "mimetype": "text/x-python",
   "name": "python",
   "nbconvert_exporter": "python",
   "pygments_lexer": "ipython3",
   "version": "3.12.3"
  }
 },
 "nbformat": 4,
 "nbformat_minor": 5
}
